{
 "cells": [
  {
   "cell_type": "code",
   "execution_count": 1,
   "id": "1a608240-c082-401c-8d04-0f16df045ffa",
   "metadata": {},
   "outputs": [],
   "source": [
    "# This is part of the tutorial materials in the UCL Module MPHY0041: Machine Learning in Medical Imaging\n",
    "import os\n",
    "import torch\n",
    "import numpy as np\n",
    "import matplotlib.pyplot as plt\n",
    "from Unet3D import UNet3D\n",
    "from amta2D import AMTA_Net2D\n",
    "from amta3D import AMTA_Net3D\n",
    "from amta3D_A import AMTA_Net3D_A\n",
    "#from amta2D_A import AMTA_Net2D_A\n",
    "from dataset import create_data_loader\n",
    "from loss_function import loss_dice, cal_dice\n",
    "from dice_loss import DiceLoss"
   ]
  },
  {
   "cell_type": "code",
   "execution_count": 19,
   "id": "e12e8a4b-8039-4485-9adf-3081878fa8f1",
   "metadata": {},
   "outputs": [],
   "source": [
    "def get_pred_img(pred):\n",
    "    return torch.argmax(pred, dim=1)\n",
    "    #return pred[0]\n",
    "def model_test(model, test_loader):\n",
    "    model.eval()\n",
    "    # test_ls = []\n",
    "    results = []\n",
    "    for id, (image, label) in enumerate(test_loader):\n",
    "        with torch.no_grad():\n",
    "            pred, _ = model(image.cuda())\n",
    "            #print(pred.shape)\n",
    "            # plt.plot(pred)\n",
    "            # pred_np = pred.detach().cpu().numpy()\n",
    "            \n",
    "            #torch.save(model, os.path.join(RESULT_PATH, model_name))\n",
    "            #print(image.shape, pred.shape)\n",
    "            dice_score = loss_dice(pred, label.cuda(), [5])\n",
    "            img = image[0].cuda()\n",
    "            lab = label[0].cuda()\n",
    "            pre = get_pred_img(pred)\n",
    "            torch.save(torch.cat((img, lab, pre), dim=0).detach().cpu(), 'result/result%d' % id)\n",
    "            # dice_score_ = cal_dice(pred, label.cuda())\n",
    "            dice_np = dice_score.detach().cpu()  # .numpy()\n",
    "            results.append(dice_np)\n",
    "\n",
    "    mean_dice = np.mean(results)\n",
    "    print('Final mean dice is:' + str(mean_dice))\n",
    "    return mean_dice"
   ]
  },
  {
   "cell_type": "code",
   "execution_count": null,
   "id": "7fb262cc",
   "metadata": {},
   "outputs": [],
   "source": [
    "from tqdm import tqdm\n",
    "dsum = 0\n",
    "for j in tqdm(range(60)):\n",
    "    img_all = torch.load('result/result%d' % j)\n",
    "    img = img_all[0]\n",
    "    width, height, queue = img.shape\n",
    "    num = 1\n",
    "    fig = plt.figure(figsize=(6, 60), dpi=100)\n",
    "    for i in range(0, queue):\n",
    "        img, label, pred = img_all[0, :, :, i], img_all[1, :, :, i], img_all[2, :, :, i]\n",
    "        plt.subplot(queue, 3, num)\n",
    "        plt.imshow(img, cmap='gray')\n",
    "        plt.subplot(queue, 3, num + 1)\n",
    "        la = torch.zeros_like(label)\n",
    "        la[label==5] = 1\n",
    "        plt.imshow(la, cmap='gray')\n",
    "        plt.subplot(queue, 3, num + 2)\n",
    "        plt.imshow(1 - pred, cmap='gray')\n",
    "        num += 3\n",
    "    label = img_all[1]\n",
    "    la = torch.zeros_like(label)\n",
    "    la[label==5] = 1\n",
    "    pred = 1 - img_all[2]\n",
    "    dice = (torch.sum(la * pred) * 2) / (torch.sum(la) + torch.sum(pred))\n",
    "    dsum += dice\n",
    "    #print(dice)\n",
    "    fig.savefig('result/test%d_dice_%.4f.png' % (j, dice))\n",
    "print(dsum / 60)"
   ]
  },
  {
   "cell_type": "code",
   "execution_count": 20,
   "id": "e89ddff2-5404-4a8c-b7bc-c3d92b6a5cd0",
   "metadata": {},
   "outputs": [
    {
     "name": "stdout",
     "output_type": "stream",
     "text": [
      "total files: 296\n",
      "total files: 296\n"
     ]
    },
    {
     "name": "stderr",
     "output_type": "stream",
     "text": [
      "pixdim[0] (qfac) should be 1 (default) or -1; setting qfac to 1\n"
     ]
    },
    {
     "name": "stdout",
     "output_type": "stream",
     "text": [
      "2023-05-05 02:42:54,584 - pixdim[0] (qfac) should be 1 (default) or -1; setting qfac to 1\n"
     ]
    },
    {
     "name": "stderr",
     "output_type": "stream",
     "text": [
      "pixdim[0] (qfac) should be 1 (default) or -1; setting qfac to 1\n"
     ]
    },
    {
     "name": "stdout",
     "output_type": "stream",
     "text": [
      "2023-05-05 02:42:55,729 - pixdim[0] (qfac) should be 1 (default) or -1; setting qfac to 1\n"
     ]
    },
    {
     "name": "stderr",
     "output_type": "stream",
     "text": [
      "pixdim[0] (qfac) should be 1 (default) or -1; setting qfac to 1\n"
     ]
    },
    {
     "name": "stdout",
     "output_type": "stream",
     "text": [
      "2023-05-05 02:42:56,708 - pixdim[0] (qfac) should be 1 (default) or -1; setting qfac to 1\n"
     ]
    },
    {
     "name": "stderr",
     "output_type": "stream",
     "text": [
      "pixdim[0] (qfac) should be 1 (default) or -1; setting qfac to 1\n"
     ]
    },
    {
     "name": "stdout",
     "output_type": "stream",
     "text": [
      "2023-05-05 02:42:58,315 - pixdim[0] (qfac) should be 1 (default) or -1; setting qfac to 1\n"
     ]
    },
    {
     "name": "stderr",
     "output_type": "stream",
     "text": [
      "pixdim[0] (qfac) should be 1 (default) or -1; setting qfac to 1\n"
     ]
    },
    {
     "name": "stdout",
     "output_type": "stream",
     "text": [
      "2023-05-05 02:42:58,843 - pixdim[0] (qfac) should be 1 (default) or -1; setting qfac to 1\n"
     ]
    },
    {
     "name": "stderr",
     "output_type": "stream",
     "text": [
      "pixdim[0] (qfac) should be 1 (default) or -1; setting qfac to 1\n"
     ]
    },
    {
     "name": "stdout",
     "output_type": "stream",
     "text": [
      "2023-05-05 02:42:59,444 - pixdim[0] (qfac) should be 1 (default) or -1; setting qfac to 1\n"
     ]
    },
    {
     "name": "stderr",
     "output_type": "stream",
     "text": [
      "pixdim[0] (qfac) should be 1 (default) or -1; setting qfac to 1\n"
     ]
    },
    {
     "name": "stdout",
     "output_type": "stream",
     "text": [
      "2023-05-05 02:43:00,023 - pixdim[0] (qfac) should be 1 (default) or -1; setting qfac to 1\n"
     ]
    },
    {
     "name": "stderr",
     "output_type": "stream",
     "text": [
      "pixdim[0] (qfac) should be 1 (default) or -1; setting qfac to 1\n"
     ]
    },
    {
     "name": "stdout",
     "output_type": "stream",
     "text": [
      "2023-05-05 02:43:01,007 - pixdim[0] (qfac) should be 1 (default) or -1; setting qfac to 1\n"
     ]
    },
    {
     "name": "stderr",
     "output_type": "stream",
     "text": [
      "pixdim[0] (qfac) should be 1 (default) or -1; setting qfac to 1\n"
     ]
    },
    {
     "name": "stdout",
     "output_type": "stream",
     "text": [
      "2023-05-05 02:43:01,978 - pixdim[0] (qfac) should be 1 (default) or -1; setting qfac to 1\n"
     ]
    },
    {
     "name": "stderr",
     "output_type": "stream",
     "text": [
      "pixdim[0] (qfac) should be 1 (default) or -1; setting qfac to 1\n"
     ]
    },
    {
     "name": "stdout",
     "output_type": "stream",
     "text": [
      "2023-05-05 02:43:03,041 - pixdim[0] (qfac) should be 1 (default) or -1; setting qfac to 1\n"
     ]
    },
    {
     "name": "stderr",
     "output_type": "stream",
     "text": [
      "pixdim[0] (qfac) should be 1 (default) or -1; setting qfac to 1\n"
     ]
    },
    {
     "name": "stdout",
     "output_type": "stream",
     "text": [
      "2023-05-05 02:43:03,612 - pixdim[0] (qfac) should be 1 (default) or -1; setting qfac to 1\n"
     ]
    },
    {
     "name": "stderr",
     "output_type": "stream",
     "text": [
      "pixdim[0] (qfac) should be 1 (default) or -1; setting qfac to 1\n"
     ]
    },
    {
     "name": "stdout",
     "output_type": "stream",
     "text": [
      "2023-05-05 02:43:05,369 - pixdim[0] (qfac) should be 1 (default) or -1; setting qfac to 1\n"
     ]
    },
    {
     "name": "stderr",
     "output_type": "stream",
     "text": [
      "pixdim[0] (qfac) should be 1 (default) or -1; setting qfac to 1\n"
     ]
    },
    {
     "name": "stdout",
     "output_type": "stream",
     "text": [
      "2023-05-05 02:43:06,318 - pixdim[0] (qfac) should be 1 (default) or -1; setting qfac to 1\n"
     ]
    },
    {
     "name": "stderr",
     "output_type": "stream",
     "text": [
      "pixdim[0] (qfac) should be 1 (default) or -1; setting qfac to 1\n"
     ]
    },
    {
     "name": "stdout",
     "output_type": "stream",
     "text": [
      "2023-05-05 02:43:06,955 - pixdim[0] (qfac) should be 1 (default) or -1; setting qfac to 1\n"
     ]
    },
    {
     "name": "stderr",
     "output_type": "stream",
     "text": [
      "pixdim[0] (qfac) should be 1 (default) or -1; setting qfac to 1\n"
     ]
    },
    {
     "name": "stdout",
     "output_type": "stream",
     "text": [
      "2023-05-05 02:43:07,889 - pixdim[0] (qfac) should be 1 (default) or -1; setting qfac to 1\n"
     ]
    },
    {
     "name": "stderr",
     "output_type": "stream",
     "text": [
      "pixdim[0] (qfac) should be 1 (default) or -1; setting qfac to 1\n"
     ]
    },
    {
     "name": "stdout",
     "output_type": "stream",
     "text": [
      "2023-05-05 02:43:09,911 - pixdim[0] (qfac) should be 1 (default) or -1; setting qfac to 1\n"
     ]
    },
    {
     "name": "stderr",
     "output_type": "stream",
     "text": [
      "pixdim[0] (qfac) should be 1 (default) or -1; setting qfac to 1\n"
     ]
    },
    {
     "name": "stdout",
     "output_type": "stream",
     "text": [
      "2023-05-05 02:43:10,965 - pixdim[0] (qfac) should be 1 (default) or -1; setting qfac to 1\n"
     ]
    },
    {
     "name": "stderr",
     "output_type": "stream",
     "text": [
      "pixdim[0] (qfac) should be 1 (default) or -1; setting qfac to 1\n"
     ]
    },
    {
     "name": "stdout",
     "output_type": "stream",
     "text": [
      "2023-05-05 02:43:12,697 - pixdim[0] (qfac) should be 1 (default) or -1; setting qfac to 1\n"
     ]
    },
    {
     "name": "stderr",
     "output_type": "stream",
     "text": [
      "pixdim[0] (qfac) should be 1 (default) or -1; setting qfac to 1\n"
     ]
    },
    {
     "name": "stdout",
     "output_type": "stream",
     "text": [
      "2023-05-05 02:43:15,839 - pixdim[0] (qfac) should be 1 (default) or -1; setting qfac to 1\n"
     ]
    },
    {
     "name": "stderr",
     "output_type": "stream",
     "text": [
      "pixdim[0] (qfac) should be 1 (default) or -1; setting qfac to 1\n"
     ]
    },
    {
     "name": "stdout",
     "output_type": "stream",
     "text": [
      "2023-05-05 02:43:16,386 - pixdim[0] (qfac) should be 1 (default) or -1; setting qfac to 1\n"
     ]
    },
    {
     "name": "stderr",
     "output_type": "stream",
     "text": [
      "pixdim[0] (qfac) should be 1 (default) or -1; setting qfac to 1\n"
     ]
    },
    {
     "name": "stdout",
     "output_type": "stream",
     "text": [
      "2023-05-05 02:43:17,286 - pixdim[0] (qfac) should be 1 (default) or -1; setting qfac to 1\n"
     ]
    },
    {
     "name": "stderr",
     "output_type": "stream",
     "text": [
      "pixdim[0] (qfac) should be 1 (default) or -1; setting qfac to 1\n"
     ]
    },
    {
     "name": "stdout",
     "output_type": "stream",
     "text": [
      "2023-05-05 02:43:18,210 - pixdim[0] (qfac) should be 1 (default) or -1; setting qfac to 1\n"
     ]
    },
    {
     "name": "stderr",
     "output_type": "stream",
     "text": [
      "pixdim[0] (qfac) should be 1 (default) or -1; setting qfac to 1\n"
     ]
    },
    {
     "name": "stdout",
     "output_type": "stream",
     "text": [
      "2023-05-05 02:43:21,104 - pixdim[0] (qfac) should be 1 (default) or -1; setting qfac to 1\n"
     ]
    },
    {
     "name": "stderr",
     "output_type": "stream",
     "text": [
      "pixdim[0] (qfac) should be 1 (default) or -1; setting qfac to 1\n"
     ]
    },
    {
     "name": "stdout",
     "output_type": "stream",
     "text": [
      "2023-05-05 02:43:22,153 - pixdim[0] (qfac) should be 1 (default) or -1; setting qfac to 1\n",
      "Final mean dice is:0.1344656\n"
     ]
    },
    {
     "data": {
      "text/plain": [
       "0.1344656"
      ]
     },
     "execution_count": 20,
     "metadata": {},
     "output_type": "execute_result"
    }
   ],
   "source": [
    "os.environ[\"CUDA_VISIBLE_DEVICES\"] = \"0\"\n",
    "use_cuda = torch.cuda.is_available()\n",
    "folder_name = '../../autodl-tmp/data'\n",
    "RESULT_PATH = '../../autodl-tmp/result'\n",
    "train_loader, test_loader = create_data_loader(target_label=0,auxiliary_label=1, folder_name=folder_name, slice_dataset=True)\n",
    "model = torch.load('../../autodl-tmp/result/saved_model3001')\n",
    "model_test(model, test_loader)"
   ]
  },
  {
   "cell_type": "code",
   "execution_count": null,
   "id": "c3aa4225-7337-41a6-a559-ca1085816658",
   "metadata": {},
   "outputs": [],
   "source": []
  }
 ],
 "metadata": {
  "kernelspec": {
   "display_name": "Python 3 (ipykernel)",
   "language": "python",
   "name": "python3"
  },
  "language_info": {
   "codemirror_mode": {
    "name": "ipython",
    "version": 3
   },
   "file_extension": ".py",
   "mimetype": "text/x-python",
   "name": "python",
   "nbconvert_exporter": "python",
   "pygments_lexer": "ipython3",
   "version": "3.8.10"
  }
 },
 "nbformat": 4,
 "nbformat_minor": 5
}
